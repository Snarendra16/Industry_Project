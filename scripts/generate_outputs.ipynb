{
 "cells": [
  {
   "cell_type": "markdown",
   "id": "31a59c63",
   "metadata": {},
   "source": [
    "### Generate Output "
   ]
  },
  {
   "cell_type": "code",
   "execution_count": 1,
   "id": "3264e649",
   "metadata": {},
   "outputs": [
    {
     "ename": "",
     "evalue": "",
     "output_type": "error",
     "traceback": [
      "\u001b[1;31mThe Kernel crashed while executing code in the current cell or a previous cell. \n",
      "\u001b[1;31mPlease review the code in the cell(s) to identify a possible cause of the failure. \n",
      "\u001b[1;31mClick <a href='https://aka.ms/vscodeJupyterKernelCrash'>here</a> for more info. \n",
      "\u001b[1;31mView Jupyter <a href='command:jupyter.viewOutput'>log</a> for further details."
     ]
    }
   ],
   "source": [
    "import pandas as pd\n",
    "from transformers import AutoTokenizer, AutoModelForCausalLM\n",
    "# import torch"
   ]
  },
  {
   "cell_type": "code",
   "execution_count": null,
   "id": "d98359cc",
   "metadata": {},
   "outputs": [],
   "source": [
    "# Load Model and Tokenizer\n",
    "\n",
    "model_info = {\n",
    "    \"gpt2\": \"gpt2\",\n",
    "    \"gpt_neo\": \"EleutherAI/gpt-neo-125M\"\n",
    "}\n",
    "\n",
    "tokenizers = {}\n",
    "models = {}"
   ]
  },
  {
   "cell_type": "code",
   "execution_count": null,
   "id": "00d868c2",
   "metadata": {},
   "outputs": [],
   "source": [
    "for key, model_name in model_info.items():\n",
    "    tokenizers[key] = AutoTokenizer.from_pretrained(model_name)\n",
    "    models[key] = AutoModelForCausalLM.from_pretrained(model_name)"
   ]
  },
  {
   "cell_type": "code",
   "execution_count": null,
   "id": "f9490723",
   "metadata": {},
   "outputs": [],
   "source": [
    "prompt_df = pd.read_csv(\"prompts.csv\")  # make sure column is 'prompt_text'"
   ]
  },
  {
   "cell_type": "code",
   "execution_count": null,
   "id": "a51790f3",
   "metadata": {},
   "outputs": [],
   "source": [
    "gpt2_outputs = []"
   ]
  },
  {
   "cell_type": "code",
   "execution_count": null,
   "metadata": {},
   "outputs": [],
   "source": [
    "for i, row in prompt_df.iterrows():\n",
    "    prompt = row['prompt_text']\n",
    "    tokenizer = tokenizers['gpt2']\n",
    "    model = models['gpt2']\n",
    "    \n",
    "    input_ids = tokenizer.encode(prompt, return_tensors=\"pt\")\n",
    "    \n",
    "    output_ids = model.generate(\n",
    "        input_ids,\n",
    "        max_length=100,\n",
    "        num_return_sequences=1,\n",
    "        no_repeat_ngram_size=2,\n",
    "        do_sample=True,\n",
    "        top_p=0.95,\n",
    "        top_k=50\n",
    "    )\n",
    "    \n",
    "    generated_text = tokenizer.decode(output_ids[0], skip_special_tokens=True)\n",
    "    \n",
    "    gpt2_outputs.append({\n",
    "        \"prompt_id\": row.get(\"id\", i),\n",
    "        \"prompt_text\": prompt,\n",
    "        \"model_output\": generated_text\n",
    "    })\n",
    "\n",
    "# Save GPT-2 outputs\n",
    "pd.DataFrame(gpt2_outputs).to_csv(\"output_gpt2.csv\", index=False)\n",
    "print(\"✅ GPT-2 Output DB created: output_gpt2.csv\")"
   ]
  },
  {
   "cell_type": "code",
   "execution_count": null,
   "metadata": {},
   "outputs": [],
   "source": [
    "neo_outputs = []\n",
    "\n",
    "for i, row in prompt_df.iterrows():\n",
    "    prompt = row['prompt_text']\n",
    "    tokenizer = tokenizers['gpt_neo']\n",
    "    model = models['gpt_neo']\n",
    "    \n",
    "    input_ids = tokenizer.encode(prompt, return_tensors=\"pt\")\n",
    "    \n",
    "    output_ids = model.generate(\n",
    "        input_ids,\n",
    "        max_length=100,\n",
    "        num_return_sequences=1,\n",
    "        no_repeat_ngram_size=2,\n",
    "        do_sample=True,\n",
    "        top_p=0.95,\n",
    "        top_k=50\n",
    "    )\n",
    "    \n",
    "    generated_text = tokenizer.decode(output_ids[0], skip_special_tokens=True)\n",
    "    \n",
    "    neo_outputs.append({\n",
    "        \"prompt_id\": row.get(\"id\", i),\n",
    "        \"prompt_text\": prompt,\n",
    "        \"model_output\": generated_text\n",
    "    })\n",
    "\n",
    "# Save GPT-Neo outputs\n",
    "pd.DataFrame(neo_outputs).to_csv(\"output_gpt_neo.csv\", index=False)\n",
    "print(\"✅ GPT-Neo Output DB created: output_gpt_neo.csv\")"
   ]
  },
  {
   "cell_type": "code",
   "execution_count": null,
   "metadata": {},
   "outputs": [],
   "source": []
  },
  {
   "cell_type": "code",
   "execution_count": null,
   "id": "42cfaeba",
   "metadata": {},
   "outputs": [],
   "source": []
  },
  {
   "cell_type": "code",
   "execution_count": null,
   "id": "62eb3d00",
   "metadata": {},
   "outputs": [],
   "source": []
  }
 ],
 "metadata": {
  "kernelspec": {
   "display_name": "project1_env",
   "language": "python",
   "name": "python3"
  },
  "language_info": {
   "codemirror_mode": {
    "name": "ipython",
    "version": 3
   },
   "file_extension": ".py",
   "mimetype": "text/x-python",
   "name": "python",
   "nbconvert_exporter": "python",
   "pygments_lexer": "ipython3",
   "version": "3.11.13"
  }
 },
 "nbformat": 4,
 "nbformat_minor": 5
}
