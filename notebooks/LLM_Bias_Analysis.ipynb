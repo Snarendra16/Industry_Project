{
 "cells": [
  {
   "cell_type": "code",
   "execution_count": null,
   "id": "ad4e4575",
   "metadata": {},
   "outputs": [],
   "source": [
    "from textblob import TextBlob\n",
    "import seaborn as sns\n",
    "import matplotlib.pyplot as plt\n",
    "\n",
    "df[\"Sentiment\"] = df[\"Response\"].apply(lambda x: TextBlob(x).sentiment.polarity)\n",
    "sns.boxplot(x=\"Model\", y=\"Sentiment\", data=df)\n",
    "plt.title(\"Sentiment Distribution per Model\")\n",
    "plt.savefig(\"results/bias_analysis_plots/sentiment_distribution.png\")\n"
   ]
  }
 ],
 "metadata": {
  "language_info": {
   "name": "python"
  }
 },
 "nbformat": 4,
 "nbformat_minor": 5
}
