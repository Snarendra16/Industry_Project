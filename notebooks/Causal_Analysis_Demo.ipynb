{
 "cells": [
  {
   "cell_type": "code",
   "execution_count": null,
   "id": "98384451",
   "metadata": {},
   "outputs": [],
   "source": [
    "# STEP 6 — Causal Analysis Demo Notebook\n",
    "\n",
    "# Import necessary libraries\n",
    "import pandas as pd\n",
    "from causal_module import run_causal  # Make sure this is the correct import path\n",
    "import matplotlib.pyplot as plt"
   ]
  },
  {
   "cell_type": "code",
   "execution_count": null,
   "id": "e599fd9b",
   "metadata": {},
   "outputs": [],
   "source": [
    "data = pd.read_csv(\"../data/processed_data.csv\")"
   ]
  },
  {
   "cell_type": "code",
   "execution_count": null,
   "id": "f96150f9",
   "metadata": {},
   "outputs": [],
   "source": [
    "causal_model, metrics_before, metrics_after = run_causal(data)"
   ]
  },
  {
   "cell_type": "code",
   "execution_count": null,
   "id": "c9188787",
   "metadata": {},
   "outputs": [],
   "source": [
    "causal_model.view_model()"
   ]
  },
  {
   "cell_type": "code",
   "execution_count": null,
   "id": "e4d3948e",
   "metadata": {},
   "outputs": [],
   "source": [
    "\n",
    "# Compare metrics before and after interventions\n",
    "metrics_df = pd.DataFrame({\n",
    "    \"Metric\": metrics_before.keys(),\n",
    "    \"Before_Intervention\": metrics_before.values(),\n",
    "    \"After_Intervention\": metrics_after.values()\n",
    "})\n",
    "\n",
    "print(metrics_df)"
   ]
  },
  {
   "cell_type": "code",
   "execution_count": null,
   "id": "5f7475c7",
   "metadata": {},
   "outputs": [],
   "source": [
    "\n",
    "# Save final results\n",
    "metrics_df.to_csv(\"../results/causal_results.csv\", index=False)"
   ]
  },
  {
   "cell_type": "code",
   "execution_count": null,
   "id": "81c33fff",
   "metadata": {},
   "outputs": [],
   "source": [
    "\n",
    "# Optional: visualize metric improvements\n",
    "metrics_df.plot(x=\"Metric\", kind=\"bar\", figsize=(10,6))\n",
    "plt.title(\"Comparison of Metrics Before vs After Causal Intervention\")\n",
    "plt.ylabel(\"Metric Value\")\n",
    "plt.xticks(rotation=45)\n",
    "plt.tight_layout()\n",
    "plt.show()\n"
   ]
  }
 ],
 "metadata": {
  "language_info": {
   "name": "python"
  }
 },
 "nbformat": 4,
 "nbformat_minor": 5
}
