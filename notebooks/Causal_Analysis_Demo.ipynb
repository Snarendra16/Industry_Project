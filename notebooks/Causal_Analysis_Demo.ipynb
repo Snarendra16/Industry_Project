{
 "cells": [
  {
   "cell_type": "code",
   "execution_count": 3,
   "id": "98384451",
   "metadata": {},
   "outputs": [
    {
     "name": "stderr",
     "output_type": "stream",
     "text": [
      "c:\\VS-Code_C_drive\\TY-Project 1\\.venv\\Lib\\site-packages\\tqdm\\auto.py:21: TqdmWarning: IProgress not found. Please update jupyter and ipywidgets. See https://ipywidgets.readthedocs.io/en/stable/user_install.html\n",
      "  from .autonotebook import tqdm as notebook_tqdm\n"
     ]
    }
   ],
   "source": [
    "# STEP 6 — Causal Analysis Demo Notebook\n",
    "\n",
    "import sys\n",
    "sys.path.append(\"..\")  # go one folder up so it can see project root\n",
    "# Import necessary libraries\n",
    "import pandas as pd\n",
    "from causal_module import run_causal  # Make sure this is the correct import path\n",
    "import matplotlib.pyplot as plt"
   ]
  },
  {
   "cell_type": "code",
   "execution_count": 6,
   "id": "e599fd9b",
   "metadata": {},
   "outputs": [
    {
     "name": "stderr",
     "output_type": "stream",
     "text": [
      "<>:1: SyntaxWarning: invalid escape sequence '\\V'\n",
      "<>:1: SyntaxWarning: invalid escape sequence '\\V'\n",
      "C:\\Users\\prana\\AppData\\Local\\Temp\\ipykernel_12696\\2993166087.py:1: SyntaxWarning: invalid escape sequence '\\V'\n",
      "  data = pd.read_csv(\"C:\\VS-Code_C_drive\\TY-Project 1\\Industry_Project\\data\\output_gpt_neo.csv\")\n"
     ]
    }
   ],
   "source": [
    "data = pd.read_csv(\"C:\\VS-Code_C_drive\\TY-Project 1\\Industry_Project\\data\\output_gpt_neo.csv\")"
   ]
  },
  {
   "cell_type": "code",
   "execution_count": null,
   "id": "f96150f9",
   "metadata": {},
   "outputs": [
    {
     "name": "stderr",
     "output_type": "stream",
     "text": [
      "c:\\VS-Code_C_drive\\TY-Project 1\\.venv\\Lib\\site-packages\\dowhy\\causal_model.py:581: UserWarning: 5 variables are assumed unobserved because they are not in the dataset. Configure the logging level to `logging.WARNING` or higher for additional details.\n",
      "  warnings.warn(\n"
     ]
    },
    {
     "ename": "AttributeError",
     "evalue": "'CausalEstimate' object has no attribute 'get_std_error'",
     "output_type": "error",
     "traceback": [
      "\u001b[31m---------------------------------------------------------------------------\u001b[39m",
      "\u001b[31mAttributeError\u001b[39m                            Traceback (most recent call last)",
      "\u001b[36mCell\u001b[39m\u001b[36m \u001b[39m\u001b[32mIn[15]\u001b[39m\u001b[32m, line 1\u001b[39m\n\u001b[32m----> \u001b[39m\u001b[32m1\u001b[39m causal_model = \u001b[43mrun_causal\u001b[49m\u001b[43m(\u001b[49m\u001b[43mdata\u001b[49m\u001b[43m)\u001b[49m\n\u001b[32m      2\u001b[39m \u001b[38;5;66;03m# Access standard error if available (CausalEstimate does not have get_std_error, use 'stderr' attribute)\u001b[39;00m\n\u001b[32m      3\u001b[39m std_error = \u001b[38;5;28mgetattr\u001b[39m(causal_model, \u001b[33m'\u001b[39m\u001b[33mstderr\u001b[39m\u001b[33m'\u001b[39m, \u001b[38;5;28;01mNone\u001b[39;00m)\n",
      "\u001b[36mFile \u001b[39m\u001b[32mc:\\VS-Code_C_drive\\TY-Project 1\\Industry_Project\\notebooks\\causal_module.py:28\u001b[39m, in \u001b[36mrun_causal\u001b[39m\u001b[34m(data)\u001b[39m\n\u001b[32m     22\u001b[39m estimate = model.estimate_effect(identified_estimand,\n\u001b[32m     23\u001b[39m                                  method_name=\u001b[33m\"\u001b[39m\u001b[33mbackdoor.linear_regression\u001b[39m\u001b[33m\"\u001b[39m)\n\u001b[32m     25\u001b[39m \u001b[38;5;66;03m# Metrics before/after interventions (example: bias reduction)\u001b[39;00m\n\u001b[32m     26\u001b[39m metrics_before = {\n\u001b[32m     27\u001b[39m     \u001b[33m\"\u001b[39m\u001b[33meffect_estimate\u001b[39m\u001b[33m\"\u001b[39m: estimate.value,  \u001b[38;5;66;03m# naive/observed estimate\u001b[39;00m\n\u001b[32m---> \u001b[39m\u001b[32m28\u001b[39m     \u001b[33m\"\u001b[39m\u001b[33mstd_error\u001b[39m\u001b[33m\"\u001b[39m: \u001b[43mestimate\u001b[49m\u001b[43m.\u001b[49m\u001b[43mget_std_error\u001b[49m()\n\u001b[32m     29\u001b[39m }\n\u001b[32m     31\u001b[39m \u001b[38;5;66;03m# Apply an \"intervention\" (simulate a treatment)\u001b[39;00m\n\u001b[32m     32\u001b[39m \u001b[38;5;66;03m# Here we just do a do-operation as an example\u001b[39;00m\n\u001b[32m     33\u001b[39m new_estimate = model.do(x=\u001b[32m1\u001b[39m).estimate_effect(identified_estimand,\n\u001b[32m     34\u001b[39m                                             method_name=\u001b[33m\"\u001b[39m\u001b[33mbackdoor.linear_regression\u001b[39m\u001b[33m\"\u001b[39m)\n",
      "\u001b[31mAttributeError\u001b[39m: 'CausalEstimate' object has no attribute 'get_std_error'"
     ]
    }
   ],
   "source": [
    "causal_model, metrics_before, metrics_after = run_causal(data)"
   ]
  },
  {
   "cell_type": "code",
   "execution_count": null,
   "id": "c9188787",
   "metadata": {},
   "outputs": [],
   "source": [
    "causal_model.view_model()"
   ]
  },
  {
   "cell_type": "code",
   "execution_count": null,
   "id": "e4d3948e",
   "metadata": {},
   "outputs": [],
   "source": [
    "\n",
    "# Compare metrics before and after interventions\n",
    "metrics_df = pd.DataFrame({\n",
    "    \"Metric\": metrics_before.keys(),\n",
    "    \"Before_Intervention\": metrics_before.values(),\n",
    "    \"After_Intervention\": metrics_after.values()\n",
    "})\n",
    "\n",
    "print(metrics_df)"
   ]
  },
  {
   "cell_type": "code",
   "execution_count": null,
   "id": "5f7475c7",
   "metadata": {},
   "outputs": [],
   "source": [
    "\n",
    "# Save final results\n",
    "metrics_df.to_csv(\"../results/causal_results.csv\", index=False)"
   ]
  },
  {
   "cell_type": "code",
   "execution_count": null,
   "id": "81c33fff",
   "metadata": {},
   "outputs": [],
   "source": [
    "\n",
    "# Optional: visualize metric improvements\n",
    "metrics_df.plot(x=\"Metric\", kind=\"bar\", figsize=(10,6))\n",
    "plt.title(\"Comparison of Metrics Before vs After Causal Intervention\")\n",
    "plt.ylabel(\"Metric Value\")\n",
    "plt.xticks(rotation=45)\n",
    "plt.tight_layout()\n",
    "plt.show()\n"
   ]
  }
 ],
 "metadata": {
  "kernelspec": {
   "display_name": ".venv",
   "language": "python",
   "name": "python3"
  },
  "language_info": {
   "codemirror_mode": {
    "name": "ipython",
    "version": 3
   },
   "file_extension": ".py",
   "mimetype": "text/x-python",
   "name": "python",
   "nbconvert_exporter": "python",
   "pygments_lexer": "ipython3",
   "version": "3.12.4"
  }
 },
 "nbformat": 4,
 "nbformat_minor": 5
}
