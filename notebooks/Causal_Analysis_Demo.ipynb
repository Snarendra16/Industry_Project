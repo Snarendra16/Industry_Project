{
 "cells": [
  {
   "cell_type": "code",
   "execution_count": 1,
   "id": "98384451",
   "metadata": {},
   "outputs": [],
   "source": [
    "import sys\n",
    "sys.path.append(\"..\")\n",
    "\n",
    "from causal_module import run_causal\n",
    "import pandas as pd\n",
    "import matplotlib.pyplot as plt"
   ]
  },
  {
   "cell_type": "code",
   "execution_count": null,
   "id": "e599fd9b",
   "metadata": {},
   "outputs": [
    {
     "ename": "KeyError",
     "evalue": "'treatment'",
     "output_type": "error",
     "traceback": [
      "\u001b[31m---------------------------------------------------------------------------\u001b[39m",
      "\u001b[31mKeyError\u001b[39m                                  Traceback (most recent call last)",
      "\u001b[36mFile \u001b[39m\u001b[32mf:\\anaconda3\\envs\\project1_env_fixed\\Lib\\site-packages\\pandas\\core\\indexes\\base.py:3812\u001b[39m, in \u001b[36mIndex.get_loc\u001b[39m\u001b[34m(self, key)\u001b[39m\n\u001b[32m   3811\u001b[39m \u001b[38;5;28;01mtry\u001b[39;00m:\n\u001b[32m-> \u001b[39m\u001b[32m3812\u001b[39m     \u001b[38;5;28;01mreturn\u001b[39;00m \u001b[38;5;28;43mself\u001b[39;49m\u001b[43m.\u001b[49m\u001b[43m_engine\u001b[49m\u001b[43m.\u001b[49m\u001b[43mget_loc\u001b[49m\u001b[43m(\u001b[49m\u001b[43mcasted_key\u001b[49m\u001b[43m)\u001b[49m\n\u001b[32m   3813\u001b[39m \u001b[38;5;28;01mexcept\u001b[39;00m \u001b[38;5;167;01mKeyError\u001b[39;00m \u001b[38;5;28;01mas\u001b[39;00m err:\n",
      "\u001b[36mFile \u001b[39m\u001b[32mpandas/_libs/index.pyx:167\u001b[39m, in \u001b[36mpandas._libs.index.IndexEngine.get_loc\u001b[39m\u001b[34m()\u001b[39m\n",
      "\u001b[36mFile \u001b[39m\u001b[32mpandas/_libs/index.pyx:196\u001b[39m, in \u001b[36mpandas._libs.index.IndexEngine.get_loc\u001b[39m\u001b[34m()\u001b[39m\n",
      "\u001b[36mFile \u001b[39m\u001b[32mpandas/_libs/hashtable_class_helper.pxi:7088\u001b[39m, in \u001b[36mpandas._libs.hashtable.PyObjectHashTable.get_item\u001b[39m\u001b[34m()\u001b[39m\n",
      "\u001b[36mFile \u001b[39m\u001b[32mpandas/_libs/hashtable_class_helper.pxi:7096\u001b[39m, in \u001b[36mpandas._libs.hashtable.PyObjectHashTable.get_item\u001b[39m\u001b[34m()\u001b[39m\n",
      "\u001b[31mKeyError\u001b[39m: 'treatment'",
      "\nThe above exception was the direct cause of the following exception:\n",
      "\u001b[31mKeyError\u001b[39m                                  Traceback (most recent call last)",
      "\u001b[36mCell\u001b[39m\u001b[36m \u001b[39m\u001b[32mIn[3]\u001b[39m\u001b[32m, line 3\u001b[39m\n\u001b[32m      1\u001b[39m data = pd.read_csv(\u001b[33m\"\u001b[39m\u001b[33m../data/processed_data.csv\u001b[39m\u001b[33m\"\u001b[39m)\n\u001b[32m----> \u001b[39m\u001b[32m3\u001b[39m causal_model, metrics_before, metrics_after = \u001b[43mrun_causal\u001b[49m\u001b[43m(\u001b[49m\u001b[43mdata\u001b[49m\u001b[43m)\u001b[49m\n",
      "\u001b[36mFile \u001b[39m\u001b[32mf:\\B.Tech CSE(AIML) VIIT\\SEM 5\\Industry Project\\notebooks\\causal_module.py:4\u001b[39m, in \u001b[36mrun_causal\u001b[39m\u001b[34m(data)\u001b[39m\n\u001b[32m      1\u001b[39m \u001b[38;5;28;01mdef\u001b[39;00m\u001b[38;5;250m \u001b[39m\u001b[34mrun_causal\u001b[39m(data):\n\u001b[32m      2\u001b[39m     \u001b[38;5;66;03m# --- Preprocess ---\u001b[39;00m\n\u001b[32m      3\u001b[39m     data = data.copy()\n\u001b[32m----> \u001b[39m\u001b[32m4\u001b[39m     data[\u001b[33m'\u001b[39m\u001b[33mtreatment\u001b[39m\u001b[33m'\u001b[39m] = \u001b[43mdata\u001b[49m\u001b[43m[\u001b[49m\u001b[33;43m'\u001b[39;49m\u001b[33;43mtreatment\u001b[39;49m\u001b[33;43m'\u001b[39;49m\u001b[43m]\u001b[49m.astype(\u001b[38;5;28mstr\u001b[39m)\n\u001b[32m      5\u001b[39m     data[\u001b[33m'\u001b[39m\u001b[33moutcome\u001b[39m\u001b[33m'\u001b[39m] = data[\u001b[33m'\u001b[39m\u001b[33moutcome\u001b[39m\u001b[33m'\u001b[39m].astype(\u001b[38;5;28mfloat\u001b[39m)\n\u001b[32m      7\u001b[39m     \u001b[38;5;28;01mfrom\u001b[39;00m\u001b[38;5;250m \u001b[39m\u001b[34;01mdowhy\u001b[39;00m\u001b[38;5;250m \u001b[39m\u001b[38;5;28;01mimport\u001b[39;00m CausalModel\n",
      "\u001b[36mFile \u001b[39m\u001b[32mf:\\anaconda3\\envs\\project1_env_fixed\\Lib\\site-packages\\pandas\\core\\frame.py:4113\u001b[39m, in \u001b[36mDataFrame.__getitem__\u001b[39m\u001b[34m(self, key)\u001b[39m\n\u001b[32m   4111\u001b[39m \u001b[38;5;28;01mif\u001b[39;00m \u001b[38;5;28mself\u001b[39m.columns.nlevels > \u001b[32m1\u001b[39m:\n\u001b[32m   4112\u001b[39m     \u001b[38;5;28;01mreturn\u001b[39;00m \u001b[38;5;28mself\u001b[39m._getitem_multilevel(key)\n\u001b[32m-> \u001b[39m\u001b[32m4113\u001b[39m indexer = \u001b[38;5;28;43mself\u001b[39;49m\u001b[43m.\u001b[49m\u001b[43mcolumns\u001b[49m\u001b[43m.\u001b[49m\u001b[43mget_loc\u001b[49m\u001b[43m(\u001b[49m\u001b[43mkey\u001b[49m\u001b[43m)\u001b[49m\n\u001b[32m   4114\u001b[39m \u001b[38;5;28;01mif\u001b[39;00m is_integer(indexer):\n\u001b[32m   4115\u001b[39m     indexer = [indexer]\n",
      "\u001b[36mFile \u001b[39m\u001b[32mf:\\anaconda3\\envs\\project1_env_fixed\\Lib\\site-packages\\pandas\\core\\indexes\\base.py:3819\u001b[39m, in \u001b[36mIndex.get_loc\u001b[39m\u001b[34m(self, key)\u001b[39m\n\u001b[32m   3814\u001b[39m     \u001b[38;5;28;01mif\u001b[39;00m \u001b[38;5;28misinstance\u001b[39m(casted_key, \u001b[38;5;28mslice\u001b[39m) \u001b[38;5;129;01mor\u001b[39;00m (\n\u001b[32m   3815\u001b[39m         \u001b[38;5;28misinstance\u001b[39m(casted_key, abc.Iterable)\n\u001b[32m   3816\u001b[39m         \u001b[38;5;129;01mand\u001b[39;00m \u001b[38;5;28many\u001b[39m(\u001b[38;5;28misinstance\u001b[39m(x, \u001b[38;5;28mslice\u001b[39m) \u001b[38;5;28;01mfor\u001b[39;00m x \u001b[38;5;129;01min\u001b[39;00m casted_key)\n\u001b[32m   3817\u001b[39m     ):\n\u001b[32m   3818\u001b[39m         \u001b[38;5;28;01mraise\u001b[39;00m InvalidIndexError(key)\n\u001b[32m-> \u001b[39m\u001b[32m3819\u001b[39m     \u001b[38;5;28;01mraise\u001b[39;00m \u001b[38;5;167;01mKeyError\u001b[39;00m(key) \u001b[38;5;28;01mfrom\u001b[39;00m\u001b[38;5;250m \u001b[39m\u001b[34;01merr\u001b[39;00m\n\u001b[32m   3820\u001b[39m \u001b[38;5;28;01mexcept\u001b[39;00m \u001b[38;5;167;01mTypeError\u001b[39;00m:\n\u001b[32m   3821\u001b[39m     \u001b[38;5;66;03m# If we have a listlike key, _check_indexing_error will raise\u001b[39;00m\n\u001b[32m   3822\u001b[39m     \u001b[38;5;66;03m#  InvalidIndexError. Otherwise we fall through and re-raise\u001b[39;00m\n\u001b[32m   3823\u001b[39m     \u001b[38;5;66;03m#  the TypeError.\u001b[39;00m\n\u001b[32m   3824\u001b[39m     \u001b[38;5;28mself\u001b[39m._check_indexing_error(key)\n",
      "\u001b[31mKeyError\u001b[39m: 'treatment'"
     ]
    }
   ],
   "source": [
    "data = pd.read_csv(\"../data/processed_data.csv\")\n",
    "\n",
    "# Create a 'treatment' column: 1 for GPT-Neo, 0 for GPT-2\n",
    "data['treatment'] = (data['model_name'] == 'GPT-Neo').astype(int)\n",
    "\n",
    "causal_model, metrics_before, metrics_after = run_causal(data)"
   ]
  },
  {
   "cell_type": "code",
   "execution_count": 7,
   "id": "31428bf4",
   "metadata": {},
   "outputs": [
    {
     "ename": "ValueError",
     "evalue": "Found unknown categories [1] in column 0 during transform",
     "output_type": "error",
     "traceback": [
      "\u001b[31m---------------------------------------------------------------------------\u001b[39m",
      "\u001b[31mValueError\u001b[39m                                Traceback (most recent call last)",
      "\u001b[36mCell\u001b[39m\u001b[36m \u001b[39m\u001b[32mIn[7]\u001b[39m\u001b[32m, line 1\u001b[39m\n\u001b[32m----> \u001b[39m\u001b[32m1\u001b[39m causal_model, metrics_before, metrics_after = \u001b[43mrun_causal\u001b[49m\u001b[43m(\u001b[49m\u001b[43mdata\u001b[49m\u001b[43m)\u001b[49m\n",
      "\u001b[36mFile \u001b[39m\u001b[32mc:\\VS-Code_C_drive\\TY-Project 1\\Industry_Project\\notebooks\\causal_module.py:28\u001b[39m, in \u001b[36mrun_causal\u001b[39m\u001b[34m(data)\u001b[39m\n\u001b[32m     25\u001b[39m \u001b[38;5;66;03m# Identify and estimate effect\u001b[39;00m\n\u001b[32m     26\u001b[39m identified_estimand = model.identify_effect()\n\u001b[32m---> \u001b[39m\u001b[32m28\u001b[39m estimate_before = \u001b[43mmodel\u001b[49m\u001b[43m.\u001b[49m\u001b[43mestimate_effect\u001b[49m\u001b[43m(\u001b[49m\n\u001b[32m     29\u001b[39m \u001b[43m    \u001b[49m\u001b[43midentified_estimand\u001b[49m\u001b[43m,\u001b[49m\n\u001b[32m     30\u001b[39m \u001b[43m    \u001b[49m\u001b[43mmethod_name\u001b[49m\u001b[43m=\u001b[49m\u001b[33;43m\"\u001b[39;49m\u001b[33;43mbackdoor.linear_regression\u001b[39;49m\u001b[33;43m\"\u001b[39;49m\n\u001b[32m     31\u001b[39m \u001b[43m\u001b[49m\u001b[43m)\u001b[49m\n\u001b[32m     33\u001b[39m metrics_before = {\n\u001b[32m     34\u001b[39m     \u001b[33m\"\u001b[39m\u001b[33meffect_estimate\u001b[39m\u001b[33m\"\u001b[39m: estimate_before.value,\n\u001b[32m     35\u001b[39m     \u001b[33m\"\u001b[39m\u001b[33mstd_error\u001b[39m\u001b[33m\"\u001b[39m: estimate_before.get_std_error()\n\u001b[32m     36\u001b[39m }\n\u001b[32m     38\u001b[39m \u001b[38;5;66;03m# Intervention: simulate replacing all models with GPT-Neo\u001b[39;00m\n",
      "\u001b[36mFile \u001b[39m\u001b[32mc:\\VS-Code_C_drive\\TY-Project 1\\.venv\\Lib\\site-packages\\dowhy\\causal_model.py:359\u001b[39m, in \u001b[36mCausalModel.estimate_effect\u001b[39m\u001b[34m(self, identified_estimand, method_name, control_value, treatment_value, test_significance, evaluate_effect_strength, confidence_intervals, target_units, effect_modifiers, fit_estimator, method_params)\u001b[39m\n\u001b[32m    348\u001b[39m         causal_estimator = causal_estimator_class(\n\u001b[32m    349\u001b[39m             identified_estimand,\n\u001b[32m    350\u001b[39m             test_significance=test_significance,\n\u001b[32m   (...)\u001b[39m\u001b[32m    354\u001b[39m             **extra_args,\n\u001b[32m    355\u001b[39m         )\n\u001b[32m    357\u001b[39m         \u001b[38;5;28mself\u001b[39m._estimator_cache[method_name] = causal_estimator\n\u001b[32m--> \u001b[39m\u001b[32m359\u001b[39m \u001b[38;5;28;01mreturn\u001b[39;00m \u001b[43mestimate_effect\u001b[49m\u001b[43m(\u001b[49m\n\u001b[32m    360\u001b[39m \u001b[43m    \u001b[49m\u001b[38;5;28;43mself\u001b[39;49m\u001b[43m.\u001b[49m\u001b[43m_data\u001b[49m\u001b[43m,\u001b[49m\n\u001b[32m    361\u001b[39m \u001b[43m    \u001b[49m\u001b[38;5;28;43mself\u001b[39;49m\u001b[43m.\u001b[49m\u001b[43m_treatment\u001b[49m\u001b[43m,\u001b[49m\n\u001b[32m    362\u001b[39m \u001b[43m    \u001b[49m\u001b[38;5;28;43mself\u001b[39;49m\u001b[43m.\u001b[49m\u001b[43m_outcome\u001b[49m\u001b[43m,\u001b[49m\n\u001b[32m    363\u001b[39m \u001b[43m    \u001b[49m\u001b[43midentifier_name\u001b[49m\u001b[43m,\u001b[49m\n\u001b[32m    364\u001b[39m \u001b[43m    \u001b[49m\u001b[43mcausal_estimator\u001b[49m\u001b[43m,\u001b[49m\n\u001b[32m    365\u001b[39m \u001b[43m    \u001b[49m\u001b[43mcontrol_value\u001b[49m\u001b[43m,\u001b[49m\n\u001b[32m    366\u001b[39m \u001b[43m    \u001b[49m\u001b[43mtreatment_value\u001b[49m\u001b[43m,\u001b[49m\n\u001b[32m    367\u001b[39m \u001b[43m    \u001b[49m\u001b[43mtarget_units\u001b[49m\u001b[43m,\u001b[49m\n\u001b[32m    368\u001b[39m \u001b[43m    \u001b[49m\u001b[43meffect_modifiers\u001b[49m\u001b[43m,\u001b[49m\n\u001b[32m    369\u001b[39m \u001b[43m    \u001b[49m\u001b[43mfit_estimator\u001b[49m\u001b[43m,\u001b[49m\n\u001b[32m    370\u001b[39m \u001b[43m    \u001b[49m\u001b[43mmethod_params\u001b[49m\u001b[43m,\u001b[49m\n\u001b[32m    371\u001b[39m \u001b[43m\u001b[49m\u001b[43m)\u001b[49m\n",
      "\u001b[36mFile \u001b[39m\u001b[32mc:\\VS-Code_C_drive\\TY-Project 1\\.venv\\Lib\\site-packages\\dowhy\\causal_estimator.py:758\u001b[39m, in \u001b[36mestimate_effect\u001b[39m\u001b[34m(data, treatment, outcome, identifier_name, estimator, control_value, treatment_value, target_units, effect_modifiers, fit_estimator, method_params)\u001b[39m\n\u001b[32m    751\u001b[39m \u001b[38;5;28;01mif\u001b[39;00m fit_estimator:\n\u001b[32m    752\u001b[39m     estimator.fit(\n\u001b[32m    753\u001b[39m         data=data,\n\u001b[32m    754\u001b[39m         effect_modifier_names=effect_modifiers,\n\u001b[32m    755\u001b[39m         **method_params[\u001b[33m\"\u001b[39m\u001b[33mfit_params\u001b[39m\u001b[33m\"\u001b[39m] \u001b[38;5;28;01mif\u001b[39;00m \u001b[33m\"\u001b[39m\u001b[33mfit_params\u001b[39m\u001b[33m\"\u001b[39m \u001b[38;5;129;01min\u001b[39;00m method_params \u001b[38;5;28;01melse\u001b[39;00m {},\n\u001b[32m    756\u001b[39m     )\n\u001b[32m--> \u001b[39m\u001b[32m758\u001b[39m estimate = \u001b[43mestimator\u001b[49m\u001b[43m.\u001b[49m\u001b[43mestimate_effect\u001b[49m\u001b[43m(\u001b[49m\n\u001b[32m    759\u001b[39m \u001b[43m    \u001b[49m\u001b[43mdata\u001b[49m\u001b[43m,\u001b[49m\n\u001b[32m    760\u001b[39m \u001b[43m    \u001b[49m\u001b[43mtreatment_value\u001b[49m\u001b[43m=\u001b[49m\u001b[43mtreatment_value\u001b[49m\u001b[43m,\u001b[49m\n\u001b[32m    761\u001b[39m \u001b[43m    \u001b[49m\u001b[43mcontrol_value\u001b[49m\u001b[43m=\u001b[49m\u001b[43mcontrol_value\u001b[49m\u001b[43m,\u001b[49m\n\u001b[32m    762\u001b[39m \u001b[43m    \u001b[49m\u001b[43mtarget_units\u001b[49m\u001b[43m=\u001b[49m\u001b[43mtarget_units\u001b[49m\u001b[43m,\u001b[49m\n\u001b[32m    763\u001b[39m \u001b[43m    \u001b[49m\u001b[43mconfidence_intervals\u001b[49m\u001b[43m=\u001b[49m\u001b[43mestimator\u001b[49m\u001b[43m.\u001b[49m\u001b[43m_confidence_intervals\u001b[49m\u001b[43m,\u001b[49m\n\u001b[32m    764\u001b[39m \u001b[43m\u001b[49m\u001b[43m)\u001b[49m\n\u001b[32m    766\u001b[39m \u001b[38;5;28;01mif\u001b[39;00m estimator._significance_test:\n\u001b[32m    767\u001b[39m     estimator.test_significance(data, estimate.value, method=estimator._significance_test)\n",
      "\u001b[36mFile \u001b[39m\u001b[32mc:\\VS-Code_C_drive\\TY-Project 1\\.venv\\Lib\\site-packages\\dowhy\\causal_estimators\\regression_estimator.py:125\u001b[39m, in \u001b[36mRegressionEstimator.estimate_effect\u001b[39m\u001b[34m(self, data, treatment_value, control_value, target_units, need_conditional_estimates, **_)\u001b[39m\n\u001b[32m    122\u001b[39m     need_conditional_estimates = \u001b[38;5;28mself\u001b[39m.need_conditional_estimates\n\u001b[32m    123\u001b[39m \u001b[38;5;66;03m# TODO make treatment_value and control value also as local parameters\u001b[39;00m\n\u001b[32m    124\u001b[39m \u001b[38;5;66;03m# All treatments are set to the same constant value\u001b[39;00m\n\u001b[32m--> \u001b[39m\u001b[32m125\u001b[39m effect_estimate = \u001b[38;5;28;43mself\u001b[39;49m\u001b[43m.\u001b[49m\u001b[43m_do\u001b[49m\u001b[43m(\u001b[49m\u001b[43mtreatment_value\u001b[49m\u001b[43m,\u001b[49m\u001b[43m \u001b[49m\u001b[43mdata\u001b[49m\u001b[43m)\u001b[49m - \u001b[38;5;28mself\u001b[39m._do(control_value, data)\n\u001b[32m    126\u001b[39m conditional_effect_estimates = \u001b[38;5;28;01mNone\u001b[39;00m\n\u001b[32m    127\u001b[39m \u001b[38;5;28;01mif\u001b[39;00m need_conditional_estimates:\n",
      "\u001b[36mFile \u001b[39m\u001b[32mc:\\VS-Code_C_drive\\TY-Project 1\\.venv\\Lib\\site-packages\\dowhy\\causal_estimators\\regression_estimator.py:230\u001b[39m, in \u001b[36mRegressionEstimator._do\u001b[39m\u001b[34m(self, treatment_val, data_df)\u001b[39m\n\u001b[32m    225\u001b[39m \u001b[38;5;28;01mdef\u001b[39;00m\u001b[38;5;250m \u001b[39m\u001b[34m_do\u001b[39m(\n\u001b[32m    226\u001b[39m     \u001b[38;5;28mself\u001b[39m,\n\u001b[32m    227\u001b[39m     treatment_val,\n\u001b[32m    228\u001b[39m     data_df: pd.DataFrame,\n\u001b[32m    229\u001b[39m ):\n\u001b[32m--> \u001b[39m\u001b[32m230\u001b[39m     interventional_outcomes = \u001b[38;5;28;43mself\u001b[39;49m\u001b[43m.\u001b[49m\u001b[43minterventional_outcomes\u001b[49m\u001b[43m(\u001b[49m\u001b[43mdata_df\u001b[49m\u001b[43m,\u001b[49m\u001b[43m \u001b[49m\u001b[43mtreatment_val\u001b[49m\u001b[43m)\u001b[49m\n\u001b[32m    231\u001b[39m     \u001b[38;5;28;01mreturn\u001b[39;00m interventional_outcomes.mean()\n",
      "\u001b[36mFile \u001b[39m\u001b[32mc:\\VS-Code_C_drive\\TY-Project 1\\.venv\\Lib\\site-packages\\dowhy\\causal_estimators\\regression_estimator.py:214\u001b[39m, in \u001b[36mRegressionEstimator.interventional_outcomes\u001b[39m\u001b[34m(self, data_df, treatment_val)\u001b[39m\n\u001b[32m    209\u001b[39m data_df[\u001b[38;5;28mself\u001b[39m._target_estimand.treatment_variable] = treatment_val\n\u001b[32m    210\u001b[39m data_df[\u001b[38;5;28mself\u001b[39m._target_estimand.treatment_variable] = data_df[\u001b[38;5;28mself\u001b[39m._target_estimand.treatment_variable].astype(\n\u001b[32m    211\u001b[39m     original_type, copy=\u001b[38;5;28;01mFalse\u001b[39;00m\n\u001b[32m    212\u001b[39m )\n\u001b[32m--> \u001b[39m\u001b[32m214\u001b[39m \u001b[38;5;28;01mreturn\u001b[39;00m \u001b[38;5;28;43mself\u001b[39;49m\u001b[43m.\u001b[49m\u001b[43mpredict\u001b[49m\u001b[43m(\u001b[49m\u001b[43mdata_df\u001b[49m\u001b[43m)\u001b[49m\n",
      "\u001b[36mFile \u001b[39m\u001b[32mc:\\VS-Code_C_drive\\TY-Project 1\\.venv\\Lib\\site-packages\\dowhy\\causal_estimators\\regression_estimator.py:221\u001b[39m, in \u001b[36mRegressionEstimator.predict\u001b[39m\u001b[34m(self, data_df)\u001b[39m\n\u001b[32m    217\u001b[39m \u001b[38;5;28;01mif\u001b[39;00m \u001b[38;5;129;01mnot\u001b[39;00m \u001b[38;5;28mself\u001b[39m.model:\n\u001b[32m    218\u001b[39m     \u001b[38;5;66;03m# The model is always built on the entire data\u001b[39;00m\n\u001b[32m    219\u001b[39m     _, \u001b[38;5;28mself\u001b[39m.model = \u001b[38;5;28mself\u001b[39m._build_model()\n\u001b[32m--> \u001b[39m\u001b[32m221\u001b[39m new_features = \u001b[38;5;28;43mself\u001b[39;49m\u001b[43m.\u001b[49m\u001b[43m_build_features\u001b[49m\u001b[43m(\u001b[49m\u001b[43mdata_df\u001b[49m\u001b[43m=\u001b[49m\u001b[43mdata_df\u001b[49m\u001b[43m)\u001b[49m\n\u001b[32m    222\u001b[39m interventional_outcomes = \u001b[38;5;28mself\u001b[39m.predict_fn(data_df, \u001b[38;5;28mself\u001b[39m.model, new_features)\n\u001b[32m    223\u001b[39m \u001b[38;5;28;01mreturn\u001b[39;00m interventional_outcomes\n",
      "\u001b[36mFile \u001b[39m\u001b[32mc:\\VS-Code_C_drive\\TY-Project 1\\.venv\\Lib\\site-packages\\dowhy\\causal_estimators\\regression_estimator.py:153\u001b[39m, in \u001b[36mRegressionEstimator._build_features\u001b[39m\u001b[34m(self, data_df, treatment_values)\u001b[39m\n\u001b[32m    152\u001b[39m \u001b[38;5;28;01mdef\u001b[39;00m\u001b[38;5;250m \u001b[39m\u001b[34m_build_features\u001b[39m(\u001b[38;5;28mself\u001b[39m, data_df: pd.DataFrame, treatment_values=\u001b[38;5;28;01mNone\u001b[39;00m):\n\u001b[32m--> \u001b[39m\u001b[32m153\u001b[39m     treatment_vals = \u001b[38;5;28;43mself\u001b[39;49m\u001b[43m.\u001b[49m\u001b[43m_encode\u001b[49m\u001b[43m(\u001b[49m\u001b[43mdata_df\u001b[49m\u001b[43m[\u001b[49m\u001b[38;5;28;43mself\u001b[39;49m\u001b[43m.\u001b[49m\u001b[43m_target_estimand\u001b[49m\u001b[43m.\u001b[49m\u001b[43mtreatment_variable\u001b[49m\u001b[43m]\u001b[49m\u001b[43m,\u001b[49m\u001b[43m \u001b[49m\u001b[33;43m\"\u001b[39;49m\u001b[33;43mtreatment\u001b[39;49m\u001b[33;43m\"\u001b[39;49m\u001b[43m)\u001b[49m\n\u001b[32m    155\u001b[39m     \u001b[38;5;28;01mif\u001b[39;00m \u001b[38;5;28mlen\u001b[39m(\u001b[38;5;28mself\u001b[39m._observed_common_causes_names) > \u001b[32m0\u001b[39m:\n\u001b[32m    156\u001b[39m         observed_common_causes_vals = data_df[\u001b[38;5;28mself\u001b[39m._observed_common_causes_names]\n",
      "\u001b[36mFile \u001b[39m\u001b[32mc:\\VS-Code_C_drive\\TY-Project 1\\.venv\\Lib\\site-packages\\dowhy\\causal_estimator.py:143\u001b[39m, in \u001b[36mCausalEstimator._encode\u001b[39m\u001b[34m(self, data, encoder_name)\u001b[39m\n\u001b[32m    132\u001b[39m \u001b[38;5;28;01mdef\u001b[39;00m\u001b[38;5;250m \u001b[39m\u001b[34m_encode\u001b[39m(\u001b[38;5;28mself\u001b[39m, data: pd.DataFrame, encoder_name: \u001b[38;5;28mstr\u001b[39m):\n\u001b[32m    133\u001b[39m \u001b[38;5;250m    \u001b[39m\u001b[33;03m\"\"\"\u001b[39;00m\n\u001b[32m    134\u001b[39m \u001b[33;03m    Encodes categorical columns in the given data, returning a new dataframe containing\u001b[39;00m\n\u001b[32m    135\u001b[39m \u001b[33;03m    all original data and the encoded columns. Numerical data is unchanged, categorical\u001b[39;00m\n\u001b[32m   (...)\u001b[39m\u001b[32m    141\u001b[39m \u001b[33;03m    :returns: The encoded data.\u001b[39;00m\n\u001b[32m    142\u001b[39m \u001b[33;03m    \"\"\"\u001b[39;00m\n\u001b[32m--> \u001b[39m\u001b[32m143\u001b[39m     \u001b[38;5;28;01mreturn\u001b[39;00m \u001b[38;5;28;43mself\u001b[39;49m\u001b[43m.\u001b[49m\u001b[43m_encoders\u001b[49m\u001b[43m.\u001b[49m\u001b[43mencode\u001b[49m\u001b[43m(\u001b[49m\u001b[43mdata\u001b[49m\u001b[43m,\u001b[49m\u001b[43m \u001b[49m\u001b[43mencoder_name\u001b[49m\u001b[43m)\u001b[49m\n",
      "\u001b[36mFile \u001b[39m\u001b[32mc:\\VS-Code_C_drive\\TY-Project 1\\.venv\\Lib\\site-packages\\dowhy\\utils\\encoding.py:104\u001b[39m, in \u001b[36mEncoders.encode\u001b[39m\u001b[34m(self, data, encoder_name)\u001b[39m\n\u001b[32m     93\u001b[39m \u001b[38;5;250m\u001b[39m\u001b[33;03m\"\"\"\u001b[39;00m\n\u001b[32m     94\u001b[39m \u001b[33;03mEncodes categorical columns in the given data, returning a new dataframe containing\u001b[39;00m\n\u001b[32m     95\u001b[39m \u001b[33;03mall original data and the encoded columns. Numerical data is unchanged, categorical\u001b[39;00m\n\u001b[32m   (...)\u001b[39m\u001b[32m    101\u001b[39m \u001b[33;03m:returns: The encoded data.\u001b[39;00m\n\u001b[32m    102\u001b[39m \u001b[33;03m\"\"\"\u001b[39;00m\n\u001b[32m    103\u001b[39m existing_encoder = \u001b[38;5;28mself\u001b[39m._encoders.get(encoder_name)\n\u001b[32m--> \u001b[39m\u001b[32m104\u001b[39m encoded_variables, encoder = \u001b[43mone_hot_encode\u001b[49m\u001b[43m(\u001b[49m\n\u001b[32m    105\u001b[39m \u001b[43m    \u001b[49m\u001b[43mdata\u001b[49m\u001b[43m,\u001b[49m\n\u001b[32m    106\u001b[39m \u001b[43m    \u001b[49m\u001b[43mdrop_first\u001b[49m\u001b[43m=\u001b[49m\u001b[38;5;28;43mself\u001b[39;49m\u001b[43m.\u001b[49m\u001b[43mdrop_first\u001b[49m\u001b[43m,\u001b[49m\n\u001b[32m    107\u001b[39m \u001b[43m    \u001b[49m\u001b[43mencoder\u001b[49m\u001b[43m=\u001b[49m\u001b[43mexisting_encoder\u001b[49m\u001b[43m,\u001b[49m\n\u001b[32m    108\u001b[39m \u001b[43m\u001b[49m\u001b[43m)\u001b[49m\n\u001b[32m    110\u001b[39m \u001b[38;5;66;03m# Remember encoder\u001b[39;00m\n\u001b[32m    111\u001b[39m \u001b[38;5;28mself\u001b[39m._encoders[encoder_name] = encoder\n",
      "\u001b[36mFile \u001b[39m\u001b[32mc:\\VS-Code_C_drive\\TY-Project 1\\.venv\\Lib\\site-packages\\dowhy\\utils\\encoding.py:52\u001b[39m, in \u001b[36mone_hot_encode\u001b[39m\u001b[34m(data, columns, drop_first, encoder)\u001b[39m\n\u001b[32m     49\u001b[39m     encoded_data = encoder.fit_transform(data_to_encode)\n\u001b[32m     51\u001b[39m \u001b[38;5;28;01melse\u001b[39;00m:  \u001b[38;5;66;03m# Use existing encoder\u001b[39;00m\n\u001b[32m---> \u001b[39m\u001b[32m52\u001b[39m     encoded_data = \u001b[43mencoder\u001b[49m\u001b[43m.\u001b[49m\u001b[43mtransform\u001b[49m\u001b[43m(\u001b[49m\u001b[43mdata_to_encode\u001b[49m\u001b[43m)\u001b[49m\n\u001b[32m     54\u001b[39m \u001b[38;5;66;03m# Convert the encoded data to a DataFrame\u001b[39;00m\n\u001b[32m     55\u001b[39m columns_encoded = encoder.get_feature_names_out(data_to_encode.columns)\n",
      "\u001b[36mFile \u001b[39m\u001b[32mc:\\VS-Code_C_drive\\TY-Project 1\\.venv\\Lib\\site-packages\\sklearn\\utils\\_set_output.py:316\u001b[39m, in \u001b[36m_wrap_method_output.<locals>.wrapped\u001b[39m\u001b[34m(self, X, *args, **kwargs)\u001b[39m\n\u001b[32m    314\u001b[39m \u001b[38;5;129m@wraps\u001b[39m(f)\n\u001b[32m    315\u001b[39m \u001b[38;5;28;01mdef\u001b[39;00m\u001b[38;5;250m \u001b[39m\u001b[34mwrapped\u001b[39m(\u001b[38;5;28mself\u001b[39m, X, *args, **kwargs):\n\u001b[32m--> \u001b[39m\u001b[32m316\u001b[39m     data_to_wrap = \u001b[43mf\u001b[49m\u001b[43m(\u001b[49m\u001b[38;5;28;43mself\u001b[39;49m\u001b[43m,\u001b[49m\u001b[43m \u001b[49m\u001b[43mX\u001b[49m\u001b[43m,\u001b[49m\u001b[43m \u001b[49m\u001b[43m*\u001b[49m\u001b[43margs\u001b[49m\u001b[43m,\u001b[49m\u001b[43m \u001b[49m\u001b[43m*\u001b[49m\u001b[43m*\u001b[49m\u001b[43mkwargs\u001b[49m\u001b[43m)\u001b[49m\n\u001b[32m    317\u001b[39m     \u001b[38;5;28;01mif\u001b[39;00m \u001b[38;5;28misinstance\u001b[39m(data_to_wrap, \u001b[38;5;28mtuple\u001b[39m):\n\u001b[32m    318\u001b[39m         \u001b[38;5;66;03m# only wrap the first output for cross decomposition\u001b[39;00m\n\u001b[32m    319\u001b[39m         return_tuple = (\n\u001b[32m    320\u001b[39m             _wrap_data_with_container(method, data_to_wrap[\u001b[32m0\u001b[39m], X, \u001b[38;5;28mself\u001b[39m),\n\u001b[32m    321\u001b[39m             *data_to_wrap[\u001b[32m1\u001b[39m:],\n\u001b[32m    322\u001b[39m         )\n",
      "\u001b[36mFile \u001b[39m\u001b[32mc:\\VS-Code_C_drive\\TY-Project 1\\.venv\\Lib\\site-packages\\sklearn\\preprocessing\\_encoders.py:1043\u001b[39m, in \u001b[36mOneHotEncoder.transform\u001b[39m\u001b[34m(self, X)\u001b[39m\n\u001b[32m   1038\u001b[39m     warn_on_unknown = \u001b[38;5;28mself\u001b[39m.drop \u001b[38;5;129;01mis\u001b[39;00m \u001b[38;5;129;01mnot\u001b[39;00m \u001b[38;5;28;01mNone\u001b[39;00m \u001b[38;5;129;01mand\u001b[39;00m \u001b[38;5;28mself\u001b[39m.handle_unknown \u001b[38;5;129;01min\u001b[39;00m {\n\u001b[32m   1039\u001b[39m         \u001b[33m\"\u001b[39m\u001b[33mignore\u001b[39m\u001b[33m\"\u001b[39m,\n\u001b[32m   1040\u001b[39m         \u001b[33m\"\u001b[39m\u001b[33minfrequent_if_exist\u001b[39m\u001b[33m\"\u001b[39m,\n\u001b[32m   1041\u001b[39m     }\n\u001b[32m   1042\u001b[39m     handle_unknown = \u001b[38;5;28mself\u001b[39m.handle_unknown\n\u001b[32m-> \u001b[39m\u001b[32m1043\u001b[39m X_int, X_mask = \u001b[38;5;28;43mself\u001b[39;49m\u001b[43m.\u001b[49m\u001b[43m_transform\u001b[49m\u001b[43m(\u001b[49m\n\u001b[32m   1044\u001b[39m \u001b[43m    \u001b[49m\u001b[43mX\u001b[49m\u001b[43m,\u001b[49m\n\u001b[32m   1045\u001b[39m \u001b[43m    \u001b[49m\u001b[43mhandle_unknown\u001b[49m\u001b[43m=\u001b[49m\u001b[43mhandle_unknown\u001b[49m\u001b[43m,\u001b[49m\n\u001b[32m   1046\u001b[39m \u001b[43m    \u001b[49m\u001b[43mensure_all_finite\u001b[49m\u001b[43m=\u001b[49m\u001b[33;43m\"\u001b[39;49m\u001b[33;43mallow-nan\u001b[39;49m\u001b[33;43m\"\u001b[39;49m\u001b[43m,\u001b[49m\n\u001b[32m   1047\u001b[39m \u001b[43m    \u001b[49m\u001b[43mwarn_on_unknown\u001b[49m\u001b[43m=\u001b[49m\u001b[43mwarn_on_unknown\u001b[49m\u001b[43m,\u001b[49m\n\u001b[32m   1048\u001b[39m \u001b[43m\u001b[49m\u001b[43m)\u001b[49m\n\u001b[32m   1050\u001b[39m n_samples, n_features = X_int.shape\n\u001b[32m   1052\u001b[39m \u001b[38;5;28;01mif\u001b[39;00m \u001b[38;5;28mself\u001b[39m._drop_idx_after_grouping \u001b[38;5;129;01mis\u001b[39;00m \u001b[38;5;129;01mnot\u001b[39;00m \u001b[38;5;28;01mNone\u001b[39;00m:\n",
      "\u001b[36mFile \u001b[39m\u001b[32mc:\\VS-Code_C_drive\\TY-Project 1\\.venv\\Lib\\site-packages\\sklearn\\preprocessing\\_encoders.py:218\u001b[39m, in \u001b[36m_BaseEncoder._transform\u001b[39m\u001b[34m(self, X, handle_unknown, ensure_all_finite, warn_on_unknown, ignore_category_indices)\u001b[39m\n\u001b[32m    213\u001b[39m \u001b[38;5;28;01mif\u001b[39;00m handle_unknown == \u001b[33m\"\u001b[39m\u001b[33merror\u001b[39m\u001b[33m\"\u001b[39m:\n\u001b[32m    214\u001b[39m     msg = (\n\u001b[32m    215\u001b[39m         \u001b[33m\"\u001b[39m\u001b[33mFound unknown categories \u001b[39m\u001b[38;5;132;01m{0}\u001b[39;00m\u001b[33m in column \u001b[39m\u001b[38;5;132;01m{1}\u001b[39;00m\u001b[33m\"\u001b[39m\n\u001b[32m    216\u001b[39m         \u001b[33m\"\u001b[39m\u001b[33m during transform\u001b[39m\u001b[33m\"\u001b[39m.format(diff, i)\n\u001b[32m    217\u001b[39m     )\n\u001b[32m--> \u001b[39m\u001b[32m218\u001b[39m     \u001b[38;5;28;01mraise\u001b[39;00m \u001b[38;5;167;01mValueError\u001b[39;00m(msg)\n\u001b[32m    219\u001b[39m \u001b[38;5;28;01melse\u001b[39;00m:\n\u001b[32m    220\u001b[39m     \u001b[38;5;28;01mif\u001b[39;00m warn_on_unknown:\n",
      "\u001b[31mValueError\u001b[39m: Found unknown categories [1] in column 0 during transform"
     ]
    }
   ],
   "source": [
    "causal_model, metrics_before, metrics_after = run_causal(data)"
   ]
  },
  {
   "cell_type": "code",
   "execution_count": null,
   "id": "f96150f9",
   "metadata": {},
   "outputs": [
    {
     "name": "stderr",
     "output_type": "stream",
     "text": [
      "c:\\VS-Code_C_drive\\TY-Project 1\\.venv\\Lib\\site-packages\\dowhy\\causal_model.py:581: UserWarning: 5 variables are assumed unobserved because they are not in the dataset. Configure the logging level to `logging.WARNING` or higher for additional details.\n",
      "  warnings.warn(\n"
     ]
    },
    {
     "ename": "AttributeError",
     "evalue": "'CausalEstimate' object has no attribute 'get_std_error'",
     "output_type": "error",
     "traceback": [
      "\u001b[31m---------------------------------------------------------------------------\u001b[39m",
      "\u001b[31mAttributeError\u001b[39m                            Traceback (most recent call last)",
      "\u001b[36mCell\u001b[39m\u001b[36m \u001b[39m\u001b[32mIn[15]\u001b[39m\u001b[32m, line 1\u001b[39m\n\u001b[32m----> \u001b[39m\u001b[32m1\u001b[39m causal_model = \u001b[43mrun_causal\u001b[49m\u001b[43m(\u001b[49m\u001b[43mdata\u001b[49m\u001b[43m)\u001b[49m\n\u001b[32m      2\u001b[39m \u001b[38;5;66;03m# Access standard error if available (CausalEstimate does not have get_std_error, use 'stderr' attribute)\u001b[39;00m\n\u001b[32m      3\u001b[39m std_error = \u001b[38;5;28mgetattr\u001b[39m(causal_model, \u001b[33m'\u001b[39m\u001b[33mstderr\u001b[39m\u001b[33m'\u001b[39m, \u001b[38;5;28;01mNone\u001b[39;00m)\n",
      "\u001b[36mFile \u001b[39m\u001b[32mc:\\VS-Code_C_drive\\TY-Project 1\\Industry_Project\\notebooks\\causal_module.py:28\u001b[39m, in \u001b[36mrun_causal\u001b[39m\u001b[34m(data)\u001b[39m\n\u001b[32m     22\u001b[39m estimate = model.estimate_effect(identified_estimand,\n\u001b[32m     23\u001b[39m                                  method_name=\u001b[33m\"\u001b[39m\u001b[33mbackdoor.linear_regression\u001b[39m\u001b[33m\"\u001b[39m)\n\u001b[32m     25\u001b[39m \u001b[38;5;66;03m# Metrics before/after interventions (example: bias reduction)\u001b[39;00m\n\u001b[32m     26\u001b[39m metrics_before = {\n\u001b[32m     27\u001b[39m     \u001b[33m\"\u001b[39m\u001b[33meffect_estimate\u001b[39m\u001b[33m\"\u001b[39m: estimate.value,  \u001b[38;5;66;03m# naive/observed estimate\u001b[39;00m\n\u001b[32m---> \u001b[39m\u001b[32m28\u001b[39m     \u001b[33m\"\u001b[39m\u001b[33mstd_error\u001b[39m\u001b[33m\"\u001b[39m: \u001b[43mestimate\u001b[49m\u001b[43m.\u001b[49m\u001b[43mget_std_error\u001b[49m()\n\u001b[32m     29\u001b[39m }\n\u001b[32m     31\u001b[39m \u001b[38;5;66;03m# Apply an \"intervention\" (simulate a treatment)\u001b[39;00m\n\u001b[32m     32\u001b[39m \u001b[38;5;66;03m# Here we just do a do-operation as an example\u001b[39;00m\n\u001b[32m     33\u001b[39m new_estimate = model.do(x=\u001b[32m1\u001b[39m).estimate_effect(identified_estimand,\n\u001b[32m     34\u001b[39m                                             method_name=\u001b[33m\"\u001b[39m\u001b[33mbackdoor.linear_regression\u001b[39m\u001b[33m\"\u001b[39m)\n",
      "\u001b[31mAttributeError\u001b[39m: 'CausalEstimate' object has no attribute 'get_std_error'"
     ]
    }
   ],
   "source": [
    "causal_model.view_model()"
   ]
  },
  {
   "cell_type": "code",
   "execution_count": null,
   "id": "e4d3948e",
   "metadata": {},
   "outputs": [],
   "source": [
    "\n",
    "metrics_df = pd.DataFrame({\n",
    "    \"Metric\": metrics_before.keys(),\n",
    "    \"Before_Intervention\": metrics_before.values(),\n",
    "    \"After_Intervention\": metrics_after.values()\n",
    "})\n",
    "print(metrics_df)\n",
    "\n",
    "metrics_df.to_csv(\"../results/causal_results.csv\", index=False)\n",
    "\n",
    "# Optional: visualize comparison\n",
    "metrics_df.plot(x=\"Metric\", kind=\"bar\", figsize=(8,5))\n",
    "plt.title(\"Causal Effect Comparison: GPT-2 vs GPT-Neo\")\n",
    "plt.ylabel(\"Metric Value\")\n",
    "plt.show()"
   ]
  },
  {
   "cell_type": "code",
   "execution_count": 2,
   "id": "49436d2a",
   "metadata": {},
   "outputs": [
    {
     "name": "stderr",
     "output_type": "stream",
     "text": [
      "c:\\VS-Code_C_drive\\TY-Project 1\\.venv\\Lib\\site-packages\\huggingface_hub\\file_download.py:143: UserWarning: `huggingface_hub` cache-system uses symlinks by default to efficiently store duplicated files but your machine does not support them in C:\\Users\\prana\\.cache\\huggingface\\hub\\models--unitary--toxic-bert. Caching files will still work but in a degraded version that might require more space on your disk. This warning can be disabled by setting the `HF_HUB_DISABLE_SYMLINKS_WARNING` environment variable. For more details, see https://huggingface.co/docs/huggingface_hub/how-to-cache#limitations.\n",
      "To support symlinks on Windows, you either need to activate Developer Mode or to run Python as an administrator. In order to activate developer mode, see this article: https://docs.microsoft.com/en-us/windows/apps/get-started/enable-your-device-for-development\n",
      "  warnings.warn(message)\n",
      "Xet Storage is enabled for this repo, but the 'hf_xet' package is not installed. Falling back to regular HTTP download. For better performance, install the package with: `pip install huggingface_hub[hf_xet]` or `pip install hf_xet`\n",
      "Device set to use cpu\n"
     ]
    },
    {
     "name": "stdout",
     "output_type": "stream",
     "text": [
      "✅ Processed dataset with toxicity_score saved as processed_data.csv\n"
     ]
    }
   ],
   "source": [
    "from transformers import pipeline\n",
    "import pandas as pd\n",
    "\n",
    "# Load combined data\n",
    "data = pd.read_csv(\"C:\\\\VS-Code_C_drive\\\\TY-Project 1\\\\Industry_Project\\\\data\\\\combined_outputs.csv\")\n",
    "\n",
    "# Load toxicity classification model\n",
    "classifier = pipeline(\"text-classification\", model=\"unitary/toxic-bert\")\n",
    "\n",
    "scores = []\n",
    "for text in data[\"model_output\"]:\n",
    "    try:\n",
    "        result = classifier(text[:512])[0]  # limit text length for safety\n",
    "        scores.append(result[\"score\"])\n",
    "    except Exception as e:\n",
    "        scores.append(None)\n",
    "\n",
    "data[\"toxicity_score\"] = scores\n",
    "data.to_csv(\"processed_data.csv\", index=False)\n",
    "print(\"✅ Processed dataset with toxicity_score saved as processed_data.csv\")\n"
   ]
  }
 ],
 "metadata": {
  "kernelspec": {
   "display_name": "project1_env_fixed",
   "language": "python",
   "name": "python3"
  },
  "language_info": {
   "codemirror_mode": {
    "name": "ipython",
    "version": 3
   },
   "file_extension": ".py",
   "mimetype": "text/x-python",
   "name": "python",
   "nbconvert_exporter": "python",
   "pygments_lexer": "ipython3",
   "version": "3.11.13"
  }
 },
 "nbformat": 4,
 "nbformat_minor": 5
}
